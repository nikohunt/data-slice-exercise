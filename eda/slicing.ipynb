{
 "cells": [
  {
   "cell_type": "code",
   "execution_count": 61,
   "metadata": {},
   "outputs": [],
   "source": [
    "import numpy as np\n",
    "import pandas as pd\n",
    "\n",
    "from sklearn import datasets\n",
    "\n",
    "iris = datasets.load_iris()"
   ]
  },
  {
   "cell_type": "code",
   "execution_count": 62,
   "metadata": {},
   "outputs": [],
   "source": [
    "target = iris.target.reshape(len(iris.target), 1)\n",
    "iris_arr = np.concatenate((iris.data, target), axis=1)\n",
    "df_iris = pd.DataFrame(iris_arr, columns=iris.feature_names+['target'])\n",
    "df_iris['target'] = df_iris.loc[:, 'target'].map(dict(enumerate(iris.target_names)))"
   ]
  },
  {
   "cell_type": "code",
   "execution_count": 78,
   "metadata": {},
   "outputs": [
    {
     "name": "stdout",
     "output_type": "stream",
     "text": [
      "setosa\n",
      "versicolor\n",
      "virginica\n"
     ]
    }
   ],
   "source": [
    "for target in iris.target_names:\n",
    "    print(target)"
   ]
  },
  {
   "cell_type": "code",
   "execution_count": 81,
   "metadata": {},
   "outputs": [
    {
     "data": {
      "text/plain": [
       "5.006"
      ]
     },
     "execution_count": 81,
     "metadata": {},
     "output_type": "execute_result"
    }
   ],
   "source": []
  },
  {
   "cell_type": "code",
   "execution_count": 130,
   "metadata": {},
   "outputs": [],
   "source": [
    "def stats_by_feature(df, feature):\n",
    "    print(f'Feature: {feature}')\n",
    "    for flower in iris.target_names:\n",
    "        df_temp = df[df.target==flower][feature]\n",
    "        mean = df_temp.mean()\n",
    "        stddev = df_temp.std()\n",
    "        print(f'    Flower: {flower}')\n",
    "        print(f'        mean: {mean:.4f}')\n",
    "        print(f'        stddev: {stddev:.4f}')\n"
   ]
  },
  {
   "cell_type": "code",
   "execution_count": 131,
   "metadata": {},
   "outputs": [
    {
     "name": "stdout",
     "output_type": "stream",
     "text": [
      "Feature: sepal length (cm)\n",
      "    Flower: setosa\n",
      "        mean: 5.0060\n",
      "        stddev: 0.3525\n",
      "    Flower: versicolor\n",
      "        mean: 5.9360\n",
      "        stddev: 0.5162\n",
      "    Flower: virginica\n",
      "        mean: 6.5880\n",
      "        stddev: 0.6359\n"
     ]
    }
   ],
   "source": [
    "stats_by_feature(df_iris, 'sepal length (cm)')"
   ]
  }
 ],
 "metadata": {
  "kernelspec": {
   "display_name": "Python 3.9.13 ('.venv': poetry)",
   "language": "python",
   "name": "python3"
  },
  "language_info": {
   "codemirror_mode": {
    "name": "ipython",
    "version": 3
   },
   "file_extension": ".py",
   "mimetype": "text/x-python",
   "name": "python",
   "nbconvert_exporter": "python",
   "pygments_lexer": "ipython3",
   "version": "3.9.13"
  },
  "orig_nbformat": 4,
  "vscode": {
   "interpreter": {
    "hash": "d9a8b10a0f9f8feae34533272adfe96ceeebbbfd821733ae9c1e41d94c29a246"
   }
  }
 },
 "nbformat": 4,
 "nbformat_minor": 2
}
